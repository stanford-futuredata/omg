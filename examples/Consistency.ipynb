{
 "cells": [
  {
   "cell_type": "code",
   "execution_count": 1,
   "metadata": {},
   "outputs": [],
   "source": [
    "import pandas as pd\n",
    "import seaborn as sns\n",
    "import numpy as np\n",
    "from omg.checker import Checker\n",
    "from omg.consistency import IdentifierConsistencyAssertion, TimeConsistencyAssertion"
   ]
  },
  {
   "cell_type": "code",
   "execution_count": 2,
   "metadata": {},
   "outputs": [],
   "source": [
    "# In this example, we assume the data is generated from some deep learning method\n",
    "# We'll assume the dataframe is already populated\n",
    "\n",
    "df = pd.DataFrame(\n",
    "    [[0, 1, 'Christi Paul', 'Female', 'Black'],\n",
    "     [1, 1, 'Christi Paul', 'Female', 'Brown'],\n",
    "     [3, 1, 'Poppy Harlow', 'Male', 'Black']],\n",
    "    columns=['frame', 'scene_idenfier', 'name', 'gender', 'hair_color']\n",
    ")"
   ]
  },
  {
   "cell_type": "code",
   "execution_count": 3,
   "metadata": {},
   "outputs": [
    {
     "data": {
      "text/html": [
       "<div>\n",
       "<style scoped>\n",
       "    .dataframe tbody tr th:only-of-type {\n",
       "        vertical-align: middle;\n",
       "    }\n",
       "\n",
       "    .dataframe tbody tr th {\n",
       "        vertical-align: top;\n",
       "    }\n",
       "\n",
       "    .dataframe thead th {\n",
       "        text-align: right;\n",
       "    }\n",
       "</style>\n",
       "<table border=\"1\" class=\"dataframe\">\n",
       "  <thead>\n",
       "    <tr style=\"text-align: right;\">\n",
       "      <th></th>\n",
       "      <th>frame</th>\n",
       "      <th>scene_idenfier</th>\n",
       "      <th>name</th>\n",
       "      <th>gender</th>\n",
       "      <th>hair_color</th>\n",
       "    </tr>\n",
       "  </thead>\n",
       "  <tbody>\n",
       "    <tr>\n",
       "      <th>0</th>\n",
       "      <td>0</td>\n",
       "      <td>1</td>\n",
       "      <td>Christi Paul</td>\n",
       "      <td>Female</td>\n",
       "      <td>Black</td>\n",
       "    </tr>\n",
       "    <tr>\n",
       "      <th>1</th>\n",
       "      <td>1</td>\n",
       "      <td>1</td>\n",
       "      <td>Christi Paul</td>\n",
       "      <td>Female</td>\n",
       "      <td>Brown</td>\n",
       "    </tr>\n",
       "    <tr>\n",
       "      <th>2</th>\n",
       "      <td>3</td>\n",
       "      <td>1</td>\n",
       "      <td>Poppy Harlow</td>\n",
       "      <td>Male</td>\n",
       "      <td>Black</td>\n",
       "    </tr>\n",
       "  </tbody>\n",
       "</table>\n",
       "</div>"
      ],
      "text/plain": [
       "   frame  scene_idenfier          name  gender hair_color\n",
       "0      0               1  Christi Paul  Female      Black\n",
       "1      1               1  Christi Paul  Female      Brown\n",
       "2      3               1  Poppy Harlow    Male      Black"
      ]
     },
     "execution_count": 3,
     "metadata": {},
     "output_type": "execute_result"
    }
   ],
   "source": [
    "df"
   ]
  },
  {
   "cell_type": "code",
   "execution_count": 4,
   "metadata": {},
   "outputs": [],
   "source": [
    "# The prediction function here simply returns the predicted values\n",
    "# This would normally call a deep learning serving method\n",
    "\n",
    "def prediction_function(df):\n",
    "    return df[['name', 'gender', 'hair_color']]"
   ]
  },
  {
   "cell_type": "code",
   "execution_count": 5,
   "metadata": {},
   "outputs": [],
   "source": [
    "# Define the assertions and register them\n",
    "\n",
    "gender_consistency = IdentifierConsistencyAssertion('name', 'gender')\n",
    "hair_color_consistency = IdentifierConsistencyAssertion('scene_idenfier', 'hair_color')\n",
    "time_consistency = TimeConsistencyAssertion('scene_idenfier', 'frame')\n",
    "\n",
    "checker = Checker(name='Consistency checker', verbose=False)\n",
    "checker.register_assertion(gender_consistency.get_assertion(), gender_consistency.get_name())\n",
    "checker.register_assertion(hair_color_consistency.get_assertion(), hair_color_consistency.get_name())\n",
    "checker.register_assertion(time_consistency.get_assertion(), time_consistency.get_name())"
   ]
  },
  {
   "cell_type": "code",
   "execution_count": 6,
   "metadata": {},
   "outputs": [
    {
     "data": {
      "text/html": [
       "<style  type=\"text/css\" >\n",
       "    #T_f66b8e5e_9e2a_11eb_8926_ffe5b1d84f1drow0_col5 {\n",
       "            background-color: rgb(246,112,136);\n",
       "        }    #T_f66b8e5e_9e2a_11eb_8926_ffe5b1d84f1drow1_col5 {\n",
       "            background-color: rgb(246,112,136);\n",
       "        }    #T_f66b8e5e_9e2a_11eb_8926_ffe5b1d84f1drow2_col5 {\n",
       "            background-color: rgb(79,176,49);\n",
       "        }    #T_f66b8e5e_9e2a_11eb_8926_ffe5b1d84f1drow3_col5 {\n",
       "            background-color: rgb(79,176,49);\n",
       "        }    #T_f66b8e5e_9e2a_11eb_8926_ffe5b1d84f1drow4_col5 {\n",
       "            background-color: rgb(59,163,236);\n",
       "        }    #T_f66b8e5e_9e2a_11eb_8926_ffe5b1d84f1drow5_col5 {\n",
       "            background-color: rgb(59,163,236);\n",
       "        }</style><table id=\"T_f66b8e5e_9e2a_11eb_8926_ffe5b1d84f1d\" ><thead>    <tr>        <th class=\"blank level0\" ></th>        <th class=\"col_heading level0 col0\" >frame</th>        <th class=\"col_heading level0 col1\" >scene_idenfier</th>        <th class=\"col_heading level0 col2\" >name</th>        <th class=\"col_heading level0 col3\" >gender</th>        <th class=\"col_heading level0 col4\" >hair_color</th>        <th class=\"col_heading level0 col5\" >assertion</th>        <th class=\"col_heading level0 col6\" >err_idx</th>    </tr></thead><tbody>\n",
       "                <tr>\n",
       "                        <th id=\"T_f66b8e5e_9e2a_11eb_8926_ffe5b1d84f1dlevel0_row0\" class=\"row_heading level0 row0\" >0</th>\n",
       "                        <td id=\"T_f66b8e5e_9e2a_11eb_8926_ffe5b1d84f1drow0_col0\" class=\"data row0 col0\" >0</td>\n",
       "                        <td id=\"T_f66b8e5e_9e2a_11eb_8926_ffe5b1d84f1drow0_col1\" class=\"data row0 col1\" >1</td>\n",
       "                        <td id=\"T_f66b8e5e_9e2a_11eb_8926_ffe5b1d84f1drow0_col2\" class=\"data row0 col2\" >Christi Paul</td>\n",
       "                        <td id=\"T_f66b8e5e_9e2a_11eb_8926_ffe5b1d84f1drow0_col3\" class=\"data row0 col3\" >Female</td>\n",
       "                        <td id=\"T_f66b8e5e_9e2a_11eb_8926_ffe5b1d84f1drow0_col4\" class=\"data row0 col4\" >Black</td>\n",
       "                        <td id=\"T_f66b8e5e_9e2a_11eb_8926_ffe5b1d84f1drow0_col5\" class=\"data row0 col5\" >Identifier consistency `name`, `gender`</td>\n",
       "                        <td id=\"T_f66b8e5e_9e2a_11eb_8926_ffe5b1d84f1drow0_col6\" class=\"data row0 col6\" >0</td>\n",
       "            </tr>\n",
       "            <tr>\n",
       "                        <th id=\"T_f66b8e5e_9e2a_11eb_8926_ffe5b1d84f1dlevel0_row1\" class=\"row_heading level0 row1\" >1</th>\n",
       "                        <td id=\"T_f66b8e5e_9e2a_11eb_8926_ffe5b1d84f1drow1_col0\" class=\"data row1 col0\" >3</td>\n",
       "                        <td id=\"T_f66b8e5e_9e2a_11eb_8926_ffe5b1d84f1drow1_col1\" class=\"data row1 col1\" >1</td>\n",
       "                        <td id=\"T_f66b8e5e_9e2a_11eb_8926_ffe5b1d84f1drow1_col2\" class=\"data row1 col2\" >Poppy Harlow</td>\n",
       "                        <td id=\"T_f66b8e5e_9e2a_11eb_8926_ffe5b1d84f1drow1_col3\" class=\"data row1 col3\" >Male</td>\n",
       "                        <td id=\"T_f66b8e5e_9e2a_11eb_8926_ffe5b1d84f1drow1_col4\" class=\"data row1 col4\" >Black</td>\n",
       "                        <td id=\"T_f66b8e5e_9e2a_11eb_8926_ffe5b1d84f1drow1_col5\" class=\"data row1 col5\" >Identifier consistency `name`, `gender`</td>\n",
       "                        <td id=\"T_f66b8e5e_9e2a_11eb_8926_ffe5b1d84f1drow1_col6\" class=\"data row1 col6\" >0</td>\n",
       "            </tr>\n",
       "            <tr>\n",
       "                        <th id=\"T_f66b8e5e_9e2a_11eb_8926_ffe5b1d84f1dlevel0_row2\" class=\"row_heading level0 row2\" >2</th>\n",
       "                        <td id=\"T_f66b8e5e_9e2a_11eb_8926_ffe5b1d84f1drow2_col0\" class=\"data row2 col0\" >0</td>\n",
       "                        <td id=\"T_f66b8e5e_9e2a_11eb_8926_ffe5b1d84f1drow2_col1\" class=\"data row2 col1\" >1</td>\n",
       "                        <td id=\"T_f66b8e5e_9e2a_11eb_8926_ffe5b1d84f1drow2_col2\" class=\"data row2 col2\" >Christi Paul</td>\n",
       "                        <td id=\"T_f66b8e5e_9e2a_11eb_8926_ffe5b1d84f1drow2_col3\" class=\"data row2 col3\" >Female</td>\n",
       "                        <td id=\"T_f66b8e5e_9e2a_11eb_8926_ffe5b1d84f1drow2_col4\" class=\"data row2 col4\" >Black</td>\n",
       "                        <td id=\"T_f66b8e5e_9e2a_11eb_8926_ffe5b1d84f1drow2_col5\" class=\"data row2 col5\" >Identifier consistency `scene_idenfier`, `hair_color`</td>\n",
       "                        <td id=\"T_f66b8e5e_9e2a_11eb_8926_ffe5b1d84f1drow2_col6\" class=\"data row2 col6\" >1</td>\n",
       "            </tr>\n",
       "            <tr>\n",
       "                        <th id=\"T_f66b8e5e_9e2a_11eb_8926_ffe5b1d84f1dlevel0_row3\" class=\"row_heading level0 row3\" >3</th>\n",
       "                        <td id=\"T_f66b8e5e_9e2a_11eb_8926_ffe5b1d84f1drow3_col0\" class=\"data row3 col0\" >1</td>\n",
       "                        <td id=\"T_f66b8e5e_9e2a_11eb_8926_ffe5b1d84f1drow3_col1\" class=\"data row3 col1\" >1</td>\n",
       "                        <td id=\"T_f66b8e5e_9e2a_11eb_8926_ffe5b1d84f1drow3_col2\" class=\"data row3 col2\" >Christi Paul</td>\n",
       "                        <td id=\"T_f66b8e5e_9e2a_11eb_8926_ffe5b1d84f1drow3_col3\" class=\"data row3 col3\" >Female</td>\n",
       "                        <td id=\"T_f66b8e5e_9e2a_11eb_8926_ffe5b1d84f1drow3_col4\" class=\"data row3 col4\" >Brown</td>\n",
       "                        <td id=\"T_f66b8e5e_9e2a_11eb_8926_ffe5b1d84f1drow3_col5\" class=\"data row3 col5\" >Identifier consistency `scene_idenfier`, `hair_color`</td>\n",
       "                        <td id=\"T_f66b8e5e_9e2a_11eb_8926_ffe5b1d84f1drow3_col6\" class=\"data row3 col6\" >1</td>\n",
       "            </tr>\n",
       "            <tr>\n",
       "                        <th id=\"T_f66b8e5e_9e2a_11eb_8926_ffe5b1d84f1dlevel0_row4\" class=\"row_heading level0 row4\" >4</th>\n",
       "                        <td id=\"T_f66b8e5e_9e2a_11eb_8926_ffe5b1d84f1drow4_col0\" class=\"data row4 col0\" >0</td>\n",
       "                        <td id=\"T_f66b8e5e_9e2a_11eb_8926_ffe5b1d84f1drow4_col1\" class=\"data row4 col1\" >1</td>\n",
       "                        <td id=\"T_f66b8e5e_9e2a_11eb_8926_ffe5b1d84f1drow4_col2\" class=\"data row4 col2\" >Christi Paul</td>\n",
       "                        <td id=\"T_f66b8e5e_9e2a_11eb_8926_ffe5b1d84f1drow4_col3\" class=\"data row4 col3\" >Female</td>\n",
       "                        <td id=\"T_f66b8e5e_9e2a_11eb_8926_ffe5b1d84f1drow4_col4\" class=\"data row4 col4\" >Black</td>\n",
       "                        <td id=\"T_f66b8e5e_9e2a_11eb_8926_ffe5b1d84f1drow4_col5\" class=\"data row4 col5\" >Time consistency `scene_idenfier`, window of 3</td>\n",
       "                        <td id=\"T_f66b8e5e_9e2a_11eb_8926_ffe5b1d84f1drow4_col6\" class=\"data row4 col6\" >2</td>\n",
       "            </tr>\n",
       "            <tr>\n",
       "                        <th id=\"T_f66b8e5e_9e2a_11eb_8926_ffe5b1d84f1dlevel0_row5\" class=\"row_heading level0 row5\" >5</th>\n",
       "                        <td id=\"T_f66b8e5e_9e2a_11eb_8926_ffe5b1d84f1drow5_col0\" class=\"data row5 col0\" >0</td>\n",
       "                        <td id=\"T_f66b8e5e_9e2a_11eb_8926_ffe5b1d84f1drow5_col1\" class=\"data row5 col1\" >1</td>\n",
       "                        <td id=\"T_f66b8e5e_9e2a_11eb_8926_ffe5b1d84f1drow5_col2\" class=\"data row5 col2\" >Christi Paul</td>\n",
       "                        <td id=\"T_f66b8e5e_9e2a_11eb_8926_ffe5b1d84f1drow5_col3\" class=\"data row5 col3\" >Female</td>\n",
       "                        <td id=\"T_f66b8e5e_9e2a_11eb_8926_ffe5b1d84f1drow5_col4\" class=\"data row5 col4\" >Black</td>\n",
       "                        <td id=\"T_f66b8e5e_9e2a_11eb_8926_ffe5b1d84f1drow5_col5\" class=\"data row5 col5\" >Time consistency `scene_idenfier`, window of 3</td>\n",
       "                        <td id=\"T_f66b8e5e_9e2a_11eb_8926_ffe5b1d84f1drow5_col6\" class=\"data row5 col6\" >3</td>\n",
       "            </tr>\n",
       "    </tbody></table>"
      ],
      "text/plain": [
       "<pandas.io.formats.style.Styler at 0x7f299a5310d0>"
      ]
     },
     "execution_count": 6,
     "metadata": {},
     "output_type": "execute_result"
    }
   ],
   "source": [
    "# Run the prediction and check for errors\n",
    "\n",
    "def styler(column):\n",
    "    if column.name != 'assertion':\n",
    "        return [''] * len(column)\n",
    "    \n",
    "    uniques = column.unique()\n",
    "    cm = sns.color_palette('husl', len(uniques))\n",
    "    cmap = {}\n",
    "    for unique, color in zip(uniques, cm):\n",
    "        color = (np.array(color) * 255).astype(int)\n",
    "        color_text = f'rgb({color[0]},{color[1]},{color[2]})'\n",
    "        cmap[unique] = color_text\n",
    "\n",
    "    bg_color = column.map(cmap).fillna('')\n",
    "    return 'background-color:' + bg_color\n",
    "    \n",
    "    \n",
    "pred_fn = checker.wrap(prediction_function)\n",
    "outs = pred_fn(df)\n",
    "df_err = checker.retrieve_errors()\n",
    "df_err.style.apply(styler)"
   ]
  },
  {
   "cell_type": "code",
   "execution_count": null,
   "metadata": {},
   "outputs": [],
   "source": []
  }
 ],
 "metadata": {
  "kernelspec": {
   "display_name": "Python 3",
   "language": "python",
   "name": "python3"
  },
  "language_info": {
   "codemirror_mode": {
    "name": "ipython",
    "version": 3
   },
   "file_extension": ".py",
   "mimetype": "text/x-python",
   "name": "python",
   "nbconvert_exporter": "python",
   "pygments_lexer": "ipython3",
   "version": "3.8.3"
  }
 },
 "nbformat": 4,
 "nbformat_minor": 4
}
