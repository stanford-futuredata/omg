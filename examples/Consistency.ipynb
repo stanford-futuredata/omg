{
 "cells": [
  {
   "cell_type": "code",
   "execution_count": 1,
   "metadata": {},
   "outputs": [],
   "source": [
    "import pandas as pd\n",
    "from omg.checker import Checker\n",
    "from omg.consistency import IdentifierConsistencyAssertion, TimeConsistencyAssertion"
   ]
  },
  {
   "cell_type": "code",
   "execution_count": 2,
   "metadata": {},
   "outputs": [],
   "source": [
    "# In this example, we assume the data is generated from some deep learning method\n",
    "# We'll assume the dataframe is already populated\n",
    "\n",
    "df = pd.DataFrame(\n",
    "    [[0, 1, 'Christi Paul', 'Female', 'Black'],\n",
    "     [1, 1, 'Christi Paul', 'Female', 'Brown'],\n",
    "     [3, 1, 'Poppy Harlow', 'Male', 'Black']],\n",
    "    columns=['frame', 'scene_idenfier', 'name', 'gender', 'hair_color']\n",
    ")"
   ]
  },
  {
   "cell_type": "code",
   "execution_count": 3,
   "metadata": {},
   "outputs": [
    {
     "data": {
      "text/html": [
       "<div>\n",
       "<style scoped>\n",
       "    .dataframe tbody tr th:only-of-type {\n",
       "        vertical-align: middle;\n",
       "    }\n",
       "\n",
       "    .dataframe tbody tr th {\n",
       "        vertical-align: top;\n",
       "    }\n",
       "\n",
       "    .dataframe thead th {\n",
       "        text-align: right;\n",
       "    }\n",
       "</style>\n",
       "<table border=\"1\" class=\"dataframe\">\n",
       "  <thead>\n",
       "    <tr style=\"text-align: right;\">\n",
       "      <th></th>\n",
       "      <th>frame</th>\n",
       "      <th>scene_idenfier</th>\n",
       "      <th>name</th>\n",
       "      <th>gender</th>\n",
       "      <th>hair_color</th>\n",
       "    </tr>\n",
       "  </thead>\n",
       "  <tbody>\n",
       "    <tr>\n",
       "      <th>0</th>\n",
       "      <td>0</td>\n",
       "      <td>1</td>\n",
       "      <td>Christi Paul</td>\n",
       "      <td>Female</td>\n",
       "      <td>Black</td>\n",
       "    </tr>\n",
       "    <tr>\n",
       "      <th>1</th>\n",
       "      <td>1</td>\n",
       "      <td>1</td>\n",
       "      <td>Christi Paul</td>\n",
       "      <td>Female</td>\n",
       "      <td>Brown</td>\n",
       "    </tr>\n",
       "    <tr>\n",
       "      <th>2</th>\n",
       "      <td>3</td>\n",
       "      <td>1</td>\n",
       "      <td>Poppy Harlow</td>\n",
       "      <td>Male</td>\n",
       "      <td>Black</td>\n",
       "    </tr>\n",
       "  </tbody>\n",
       "</table>\n",
       "</div>"
      ],
      "text/plain": [
       "   frame  scene_idenfier          name  gender hair_color\n",
       "0      0               1  Christi Paul  Female      Black\n",
       "1      1               1  Christi Paul  Female      Brown\n",
       "2      3               1  Poppy Harlow    Male      Black"
      ]
     },
     "execution_count": 3,
     "metadata": {},
     "output_type": "execute_result"
    }
   ],
   "source": [
    "df"
   ]
  },
  {
   "cell_type": "code",
   "execution_count": 4,
   "metadata": {},
   "outputs": [],
   "source": [
    "# The prediction function here simply returns the predicted values\n",
    "# This would normally call a deep learning serving method\n",
    "\n",
    "def prediction_function(df):\n",
    "    return df[['name', 'gender', 'hair_color']]"
   ]
  },
  {
   "cell_type": "code",
   "execution_count": 5,
   "metadata": {},
   "outputs": [],
   "source": [
    "# Define the assertions and register them\n",
    "\n",
    "gender_consistency = IdentifierConsistencyAssertion('name', 'gender')\n",
    "hair_color_consistency = IdentifierConsistencyAssertion('scene_idenfier', 'hair_color')\n",
    "time_consistency = TimeConsistencyAssertion('scene_idenfier', 'frame')\n",
    "\n",
    "checker = Checker(name='Consistency checker')\n",
    "checker.register_assertion(gender_consistency.get_assertion(), gender_consistency.get_name())\n",
    "checker.register_assertion(hair_color_consistency.get_assertion(), hair_color_consistency.get_name())\n",
    "checker.register_assertion(time_consistency.get_assertion(), time_consistency.get_name())"
   ]
  },
  {
   "cell_type": "code",
   "execution_count": 6,
   "metadata": {},
   "outputs": [
    {
     "name": "stdout",
     "output_type": "stream",
     "text": [
      "Assertion Identifier consistency name, gender failed on [[0, 2]]\n",
      "   frame  scene_idenfier          name  gender hair_color\n",
      "0      0               1  Christi Paul  Female      Black\n",
      "2      3               1  Poppy Harlow    Male      Black            name  gender hair_color\n",
      "0  Christi Paul  Female      Black\n",
      "2  Poppy Harlow    Male      Black\n",
      "Assertion Identifier consistency scene_idenfier, hair_color failed on [[0, 1]]\n",
      "   frame  scene_idenfier          name  gender hair_color\n",
      "0      0               1  Christi Paul  Female      Black\n",
      "1      1               1  Christi Paul  Female      Brown            name  gender hair_color\n",
      "0  Christi Paul  Female      Black\n",
      "1  Christi Paul  Female      Brown\n",
      "Assertion Time consistency scene_idenfier, 3 failed on [0, 0]\n",
      "frame                        0\n",
      "scene_idenfier               1\n",
      "name              Christi Paul\n",
      "gender                  Female\n",
      "hair_color               Black\n",
      "Name: 0, dtype: object name          Christi Paul\n",
      "gender              Female\n",
      "hair_color           Black\n",
      "Name: 0, dtype: object\n",
      "frame                        0\n",
      "scene_idenfier               1\n",
      "name              Christi Paul\n",
      "gender                  Female\n",
      "hair_color               Black\n",
      "Name: 0, dtype: object name          Christi Paul\n",
      "gender              Female\n",
      "hair_color           Black\n",
      "Name: 0, dtype: object\n"
     ]
    }
   ],
   "source": [
    "# Run the prediction and check for errors\n",
    "\n",
    "pred_fn = checker.wrap(prediction_function)\n",
    "outs = pred_fn(df)"
   ]
  },
  {
   "cell_type": "code",
   "execution_count": null,
   "metadata": {},
   "outputs": [],
   "source": []
  }
 ],
 "metadata": {
  "kernelspec": {
   "display_name": "Python 3",
   "language": "python",
   "name": "python3"
  },
  "language_info": {
   "codemirror_mode": {
    "name": "ipython",
    "version": 3
   },
   "file_extension": ".py",
   "mimetype": "text/x-python",
   "name": "python",
   "nbconvert_exporter": "python",
   "pygments_lexer": "ipython3",
   "version": "3.8.3"
  }
 },
 "nbformat": 4,
 "nbformat_minor": 4
}
